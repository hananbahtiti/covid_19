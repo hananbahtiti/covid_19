{
  "nbformat": 4,
  "nbformat_minor": 0,
  "metadata": {
    "colab": {
      "name": "Parallel2layer.ipynb",
      "provenance": [],
      "collapsed_sections": []
    },
    "kernelspec": {
      "display_name": "Python 3",
      "name": "python3"
    },
    "language_info": {
      "name": "python"
    }
  },
  "cells": [
    {
      "cell_type": "code",
      "metadata": {
        "id": "W4wmsr_ne1mq"
      },
      "source": [
        " import pandas as pd\n",
        "import os\n",
        "import numpy as np\n",
        "import cv2\n",
        "from keras.models import load_model\n",
        "from keras.utils import np_utils\n",
        "from keras.models import Sequential,Model\n",
        "from keras.layers import Dense, Dropout, Flatten\n",
        "import keras\n",
        "from keras.layers import Conv2D,Activation,MaxPooling2D\n",
        "#import keras_utils\n",
        "from keras.layers import Concatenate\n",
        "from keras import Input\n",
        "from keras.preprocessing.image import ImageDataGenerator\n",
        "from keras.callbacks import ModelCheckpoint\n",
        "from sklearn.model_selection import train_test_split\n",
        "from matplotlib import pyplot as plt\n",
        "from keras import models\n",
        "from tensorflow import keras\n",
        "from sklearn.metrics import classification_report, confusion_matrix,  plot_confusion_matrix,  ConfusionMatrixDisplay"
      ],
      "execution_count": null,
      "outputs": []
    },
    {
      "cell_type": "code",
      "metadata": {
        "colab": {
          "base_uri": "https://localhost:8080/"
        },
        "id": "crfPss4OfSm0",
        "outputId": "d7a2a906-0240-4ab0-e107-d17adc12fa5d"
      },
      "source": [
        " data=np.load('/content/drive/MyDrive/data/data1.npy')\n",
        "target=np.load('/content/drive/MyDrive/data/target1.npy')\n",
        "print(data.shape)\n",
        "print(target.shape)"
      ],
      "execution_count": null,
      "outputs": [
        {
          "output_type": "stream",
          "text": [
            "(21759, 100, 100, 1)\n",
            "(21759, 2)\n"
          ],
          "name": "stdout"
        }
      ]
    },
    {
      "cell_type": "code",
      "metadata": {
        "colab": {
          "base_uri": "https://localhost:8080/"
        },
        "id": "sEOtXHT5fUHL",
        "outputId": "3c348a19-99dd-49e6-a0bf-0104017c0b24"
      },
      "source": [
        "train_data,test_data,train_target,test_target=train_test_split(data,target,test_size=0.2)\n",
        "print('train_data' , train_data.shape)\n",
        "print('test_data' , test_data.shape)\n",
        "print('train_data' , train_target.shape)\n",
        "print('test_data' , test_target.shape)"
      ],
      "execution_count": null,
      "outputs": [
        {
          "output_type": "stream",
          "text": [
            "train_data (17407, 100, 100, 1)\n",
            "test_data (4352, 100, 100, 1)\n",
            "train_data (17407, 2)\n",
            "test_data (4352, 2)\n"
          ],
          "name": "stdout"
        }
      ]
    },
    {
      "cell_type": "code",
      "metadata": {
        "colab": {
          "base_uri": "https://localhost:8080/"
        },
        "id": "8cbHMEyVfdD7",
        "outputId": "03779688-33ec-417c-cd9b-cd8a89488e5c"
      },
      "source": [
        " input_shape=data.shape[1:] #50,50,1\n",
        "inp=Input(shape=input_shape)\n",
        "print(input_shape, inp)"
      ],
      "execution_count": null,
      "outputs": [
        {
          "output_type": "stream",
          "text": [
            "(100, 100, 1) KerasTensor(type_spec=TensorSpec(shape=(None, 100, 100, 1), dtype=tf.float32, name='input_1'), name='input_1', description=\"created by layer 'input_1'\")\n"
          ],
          "name": "stdout"
        }
      ]
    },
    {
      "cell_type": "code",
      "metadata": {
        "colab": {
          "base_uri": "https://localhost:8080/"
        },
        "id": "2LveTGyQLxWi",
        "outputId": "94ed6f32-b8f3-4743-a439-8602a367bf69"
      },
      "source": [
        "convs=[]\n",
        " \n",
        "parrallel_kernels=[3,5,7]\n",
        " \n",
        "for k in range(len(parrallel_kernels)):\n",
        " \n",
        "    conv = Conv2D(128, parrallel_kernels[k],padding='same',activation='relu',input_shape=input_shape,strides=1)(inp)\n",
        "    convs.append(conv)\n",
        "    print(conv)\n",
        " \n",
        "out = Concatenate()(convs)\n",
        "conv_model = Model(inp, out)\n",
        "print(out)\n",
        "print(conv_model)"
      ],
      "execution_count": null,
      "outputs": [
        {
          "output_type": "stream",
          "text": [
            "KerasTensor(type_spec=TensorSpec(shape=(None, 100, 100, 128), dtype=tf.float32, name=None), name='conv2d_3/Relu:0', description=\"created by layer 'conv2d_3'\")\n",
            "KerasTensor(type_spec=TensorSpec(shape=(None, 100, 100, 128), dtype=tf.float32, name=None), name='conv2d_4/Relu:0', description=\"created by layer 'conv2d_4'\")\n",
            "KerasTensor(type_spec=TensorSpec(shape=(None, 100, 100, 128), dtype=tf.float32, name=None), name='conv2d_5/Relu:0', description=\"created by layer 'conv2d_5'\")\n",
            "KerasTensor(type_spec=TensorSpec(shape=(None, 100, 100, 384), dtype=tf.float32, name=None), name='concatenate_1/concat:0', description=\"created by layer 'concatenate_1'\")\n",
            "<keras.engine.functional.Functional object at 0x7f88b49d9110>\n"
          ],
          "name": "stdout"
        }
      ]
    },
    {
      "cell_type": "code",
      "metadata": {
        "colab": {
          "base_uri": "https://localhost:8080/"
        },
        "id": "GtqjIBxAes2W",
        "outputId": "502b5469-8b10-4764-d34c-98a80dcc2d66"
      },
      "source": [
        " \n",
        "convs=[]\n",
        " \n",
        "parrallel_kernels=[3,5,7]\n",
        " \n",
        "for k in range(len(parrallel_kernels)):\n",
        " \n",
        "    conv = Conv2D(128, parrallel_kernels[k],padding='same',activation='relu',input_shape=input_shape,strides=1)(inp)\n",
        "    convs.append(conv)\n",
        " \n",
        "out = Concatenate()(convs)\n",
        "conv_model = Model(inp, out)\n",
        " \n",
        "model = Sequential()\n",
        "model.add(conv_model)\n",
        " \n",
        "model.add(Conv2D(64,(3,3)))\n",
        "model.add(Activation('relu'))\n",
        "model.add(MaxPooling2D(pool_size=(2,2)))\n",
        " \n",
        "model.add(Conv2D(32,(3,3)))\n",
        "model.add(Activation('relu'))\n",
        "model.add(MaxPooling2D(pool_size=(2,2)))\n",
        " \n",
        "model.add(Flatten())\n",
        "model.add(Dropout(0.5))\n",
        "model.add(Dense(128,activation='relu'))\n",
        "model.add(Dropout(0.5))\n",
        "model.add(Dense(64,activation='relu'))\n",
        "model.add(Dropout(0.5))\n",
        "model.add(Dense(2,input_dim=128,activation='sigmoid'))\n",
        "model.compile(loss='binary_crossentropy',optimizer='adam',metrics=['accuracy'])\n",
        " \n",
        "model.summary()"
      ],
      "execution_count": null,
      "outputs": [
        {
          "output_type": "stream",
          "text": [
            "Model: \"sequential\"\n",
            "_________________________________________________________________\n",
            "Layer (type)                 Output Shape              Param #   \n",
            "=================================================================\n",
            "model (Functional)           (None, 100, 100, 384)     11008     \n",
            "_________________________________________________________________\n",
            "conv2d_3 (Conv2D)            (None, 98, 98, 64)        221248    \n",
            "_________________________________________________________________\n",
            "activation (Activation)      (None, 98, 98, 64)        0         \n",
            "_________________________________________________________________\n",
            "max_pooling2d (MaxPooling2D) (None, 49, 49, 64)        0         \n",
            "_________________________________________________________________\n",
            "conv2d_4 (Conv2D)            (None, 47, 47, 32)        18464     \n",
            "_________________________________________________________________\n",
            "activation_1 (Activation)    (None, 47, 47, 32)        0         \n",
            "_________________________________________________________________\n",
            "max_pooling2d_1 (MaxPooling2 (None, 23, 23, 32)        0         \n",
            "_________________________________________________________________\n",
            "flatten (Flatten)            (None, 16928)             0         \n",
            "_________________________________________________________________\n",
            "dropout (Dropout)            (None, 16928)             0         \n",
            "_________________________________________________________________\n",
            "dense (Dense)                (None, 128)               2166912   \n",
            "_________________________________________________________________\n",
            "dropout_1 (Dropout)          (None, 128)               0         \n",
            "_________________________________________________________________\n",
            "dense_1 (Dense)              (None, 64)                8256      \n",
            "_________________________________________________________________\n",
            "dropout_2 (Dropout)          (None, 64)                0         \n",
            "_________________________________________________________________\n",
            "dense_2 (Dense)              (None, 2)                 130       \n",
            "=================================================================\n",
            "Total params: 2,426,018\n",
            "Trainable params: 2,426,018\n",
            "Non-trainable params: 0\n",
            "_________________________________________________________________\n"
          ],
          "name": "stdout"
        }
      ]
    },
    {
      "cell_type": "code",
      "metadata": {
        "id": "PWHfMMjbfgTe"
      },
      "source": [
        " # Checkpoint\n",
        "filepath=\"/content/drive/MyDrive/data/3layer.hdf5\"\n",
        "checkpoint = ModelCheckpoint(filepath, monitor='val_acc', verbose=1, save_best_only=True, mode='max')"
      ],
      "execution_count": null,
      "outputs": []
    },
    {
      "cell_type": "code",
      "metadata": {
        "id": "-FX4QkLkfQ-l"
      },
      "source": [
        " #checkpoint = ModelCheckpoint('model-{epoch:03d}.model',monitor='val_loss',verbose=0,save_best_only=True,mode='auto')\n",
        "history=model.fit(train_data,train_target,epochs=70,callbacks=[checkpoint],validation_split=0.2)"
      ],
      "execution_count": null,
      "outputs": []
    },
    {
      "cell_type": "code",
      "metadata": {
        "id": "K9zLVkCxf8Jj"
      },
      "source": [
        " # load the model\n",
        "new_model = load_model(\"/content/drive/MyDrive/data/weights.best70.hdf5\")\n",
        "#assert_allclose(model.predict(x_train),\n",
        "                #new_model.predict(x_train),\n",
        "               # 1e-5)"
      ],
      "execution_count": null,
      "outputs": []
    },
    {
      "cell_type": "code",
      "metadata": {
        "colab": {
          "base_uri": "https://localhost:8080/"
        },
        "id": "_XOBRhrnf-qj",
        "outputId": "ee2aa1de-8291-4abc-bd0a-ff5dfce25040"
      },
      "source": [
        " \n",
        "checkpoint = ModelCheckpoint('/content/drive/MyDrive/data/weights.best74.hdf5', monitor='val_acc', verbose=1, save_best_only=True, mode='max')\n",
        "history=new_model.fit(train_data,train_target,epochs=4,callbacks=[checkpoint],validation_split=0.2)"
      ],
      "execution_count": null,
      "outputs": [
        {
          "output_type": "stream",
          "text": [
            "Epoch 1/4\n",
            "436/436 [==============================] - 4737s 11s/step - loss: 0.0519 - accuracy: 0.9844 - val_loss: 0.0082 - val_accuracy: 0.9980\n",
            "WARNING:tensorflow:Can save best model only with val_acc available, skipping.\n",
            "Epoch 2/4\n",
            "436/436 [==============================] - 4720s 11s/step - loss: 0.0506 - accuracy: 0.9847 - val_loss: 0.0104 - val_accuracy: 0.9983\n",
            "WARNING:tensorflow:Can save best model only with val_acc available, skipping.\n",
            "Epoch 3/4\n",
            "436/436 [==============================] - 4723s 11s/step - loss: 0.0390 - accuracy: 0.9875 - val_loss: 0.0101 - val_accuracy: 0.9986\n",
            "WARNING:tensorflow:Can save best model only with val_acc available, skipping.\n",
            "Epoch 4/4\n",
            "436/436 [==============================] - 4730s 11s/step - loss: 0.0502 - accuracy: 0.9841 - val_loss: 0.0100 - val_accuracy: 0.9977\n",
            "WARNING:tensorflow:Can save best model only with val_acc available, skipping.\n"
          ],
          "name": "stdout"
        }
      ]
    },
    {
      "cell_type": "code",
      "metadata": {
        "colab": {
          "base_uri": "https://localhost:8080/"
        },
        "id": "zAgqfDoTgjrU",
        "outputId": "3fa54607-6c33-45cd-e4c7-fa442c3c1537"
      },
      "source": [
        " new_model.save(\"/content/drive/MyDrive/data/weights.best74.pd\")\n",
        "print(\"Saved model to disk\")"
      ],
      "execution_count": null,
      "outputs": [
        {
          "output_type": "stream",
          "text": [
            "INFO:tensorflow:Assets written to: /content/drive/MyDrive/data/weights.best74.pd/assets\n",
            "Saved model to disk\n"
          ],
          "name": "stdout"
        }
      ]
    },
    {
      "cell_type": "code",
      "metadata": {
        "colab": {
          "base_uri": "https://localhost:8080/",
          "height": 220
        },
        "id": "Y7HzOa3jgpTG",
        "outputId": "a9ca022a-15cb-4a38-8424-592e086e3cf1"
      },
      "source": [
        " plt.plot(history.history['loss'],'r',label='training loss')\n",
        "plt.plot(history.history['val_loss'],label='validation loss')\n",
        "plt.xlabel('# epochs')\n",
        "plt.ylabel('loss')\n",
        "plt.legend()\n",
        "plt.show()"
      ],
      "execution_count": null,
      "outputs": [
        {
          "output_type": "display_data",
          "data": {
            "image/png": "[encoded data removed]",
            "text/plain": [
              "<Figure size 432x288 with 1 Axes>"
            ]
          },
          "metadata": {
            "tags": []
          }
        }
      ]
    },
    {
      "cell_type": "code",
      "metadata": {
        "colab": {
          "base_uri": "https://localhost:8080/",
          "height": 217
        },
        "id": "WB_74ehugv4O",
        "outputId": "0f64c858-946e-4e6b-b414-b6a688c5feb0"
      },
      "source": [
        " plt.plot(history.history['accuracy'],'r',label='training accuracy')\n",
        "plt.plot(history.history['val_accuracy'],label='validation accuracy')\n",
        "plt.xlabel('# epochs')\n",
        "plt.ylabel('accuracy')\n",
        "plt.legend()\n",
        "plt.show()"
      ],
      "execution_count": null,
      "outputs": [
        {
          "output_type": "display_data",
          "data": {
            "image/png": "[encoded data removed]",
            "text/plain": [
              "<Figure size 432x288 with 1 Axes>"
            ]
          },
          "metadata": {
            "tags": []
          }
        }
      ]
    },
    {
      "cell_type": "code",
      "metadata": {
        "colab": {
          "base_uri": "https://localhost:8080/",
          "height": 321
        },
        "id": "GsmCb9hAg5pa",
        "outputId": "d70202f0-023b-4e83-b949-b5d2f8b7226c"
      },
      "source": [
        "Y_pred = new_model.fit.predict_generator(test_data) \n",
        "y_pred = np.argmax(Y_pred,  axis =1)"
      ],
      "execution_count": null,
      "outputs": [
        {
          "output_type": "error",
          "ename": "AttributeError",
          "evalue": "ignored",
          "traceback": [
            "\u001b[0;31m---------------------------------------------------------------------------\u001b[0m",
            "\u001b[0;31mAttributeError\u001b[0m                            Traceback (most recent call last)",
            "\u001b[0;32m<ipython-input-16-4fcda01279f1>\u001b[0m in \u001b[0;36m<module>\u001b[0;34m()\u001b[0m\n\u001b[0;32m----> 1\u001b[0;31m \u001b[0mY_pred\u001b[0m \u001b[0;34m=\u001b[0m \u001b[0mnew_model\u001b[0m\u001b[0;34m.\u001b[0m\u001b[0mfit\u001b[0m\u001b[0;34m.\u001b[0m\u001b[0mpredict_generator\u001b[0m\u001b[0;34m(\u001b[0m\u001b[0mtest_data\u001b[0m\u001b[0;34m)\u001b[0m\u001b[0;34m\u001b[0m\u001b[0;34m\u001b[0m\u001b[0m\n\u001b[0m\u001b[1;32m      2\u001b[0m \u001b[0my_pred\u001b[0m \u001b[0;34m=\u001b[0m \u001b[0mnp\u001b[0m\u001b[0;34m.\u001b[0m\u001b[0margmax\u001b[0m\u001b[0;34m(\u001b[0m\u001b[0mY_pred\u001b[0m\u001b[0;34m,\u001b[0m  \u001b[0maxis\u001b[0m \u001b[0;34m=\u001b[0m\u001b[0;36m1\u001b[0m\u001b[0;34m)\u001b[0m\u001b[0;34m\u001b[0m\u001b[0;34m\u001b[0m\u001b[0m\n",
            "\u001b[0;31mAttributeError\u001b[0m: 'function' object has no attribute 'predict_generator'"
          ]
        }
      ]
    },
    {
      "cell_type": "code",
      "metadata": {
        "colab": {
          "base_uri": "https://localhost:8080/"
        },
        "id": "-fgPQ4P1K2S9",
        "outputId": "87637074-fc9d-424a-b88c-fe35e4217a6e"
      },
      "source": [
        " Y_pred = new_model.predict_generator(test_data) \n",
        "y_pred = np.argmax(Y_pred,  axis =1)"
      ],
      "execution_count": null,
      "outputs": [
        {
          "output_type": "stream",
          "text": [
            "/usr/local/lib/python3.7/dist-packages/keras/engine/training.py:1976: UserWarning: `Model.predict_generator` is deprecated and will be removed in a future version. Please use `Model.predict`, which supports generators.\n",
            "  warnings.warn('`Model.predict_generator` is deprecated and '\n"
          ],
          "name": "stderr"
        }
      ]
    },
    {
      "cell_type": "code",
      "metadata": {
        "colab": {
          "base_uri": "https://localhost:8080/",
          "height": 534
        },
        "id": "EXCFFB_dg6vU",
        "outputId": "03bc15cb-5644-402f-a50a-48d4f87326a4"
      },
      "source": [
        " #print(type(y_pred))\n",
        "true_lables=[]\n",
        "target_names = ['neg', 'pos']\n",
        "label_names = [0 , 1]\n",
        "print(test_target[0][0])\n",
        "print(len(test_target))\n",
        "for item in range(len(test_target)):\n",
        "  true_lables.append(test_target[item][1])\n",
        "print(len(true_lables))\n",
        "from sklearn.metrics import confusion_matrix, ConfusionMatrixDisplay\n",
        "cm = confusion_matrix(true_lables,  y_pred,  labels = label_names) \n",
        " \n",
        "# print ('Confusion Matrix') \n",
        "print(confusion_matrix(true_lables,  y_pred))\n",
        " \n",
        "print('Classification_Report') \n",
        "print(classification_report(true_lables,  y_pred, target_names = target_names)) \n",
        " \n",
        "disp = ConfusionMatrixDisplay(confusion_matrix = cm,  display_labels = target_names)\n",
        "disk = disp.plot() \n",
        "plt.show()"
      ],
      "execution_count": null,
      "outputs": [
        {
          "output_type": "stream",
          "text": [
            "0.0\n",
            "4352\n",
            "4352\n",
            "[[2116    8]\n",
            " [   2 2226]]\n",
            "Classification_Report\n",
            "              precision    recall  f1-score   support\n",
            "\n",
            "         neg       1.00      1.00      1.00      2124\n",
            "         pos       1.00      1.00      1.00      2228\n",
            "\n",
            "    accuracy                           1.00      4352\n",
            "   macro avg       1.00      1.00      1.00      4352\n",
            "weighted avg       1.00      1.00      1.00      4352\n",
            "\n"
          ],
          "name": "stdout"
        },
        {
          "output_type": "display_data",
          "data": {
            "image/png": "[encoded data removed]",
            "text/plain": [
              "<Figure size 432x288 with 2 Axes>"
            ]
          },
          "metadata": {
            "tags": []
          }
        }
      ]
    }
  ]
}